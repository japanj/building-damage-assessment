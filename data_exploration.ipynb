{
 "cells": [
  {
   "cell_type": "markdown",
   "metadata": {},
   "source": [
    "# Import library"
   ]
  },
  {
   "cell_type": "code",
   "execution_count": 87,
   "metadata": {},
   "outputs": [],
   "source": [
    "import cv2\n",
    "import os\n",
    "from cv2 import imread\n",
    "from cv2 import fillPoly\n",
    "from shapely import wkt\n",
    "import numpy as np\n",
    "from shapely.geometry import mapping\n",
    "import matplotlib.pyplot as plt\n",
    "import matplotlib.image as mpimg"
   ]
  },
  {
   "cell_type": "markdown",
   "metadata": {},
   "source": [
    "# Data pre-processing\n",
    "\n",
    "We select **Hurricane Mathew** event"
   ]
  },
  {
   "cell_type": "markdown",
   "metadata": {},
   "source": [
    "## Read image"
   ]
  },
  {
   "cell_type": "code",
   "execution_count": 12,
   "metadata": {},
   "outputs": [],
   "source": [
    "image_folder = 'train/images'\n",
    "bulding_folder = 'train/buildings'\n",
    "\n",
    "pre_image_files = []\n",
    "post_image_files = []\n",
    "pre_building_files = []\n",
    "post_building_files = []\n",
    "\n",
    "for root, dirs, files in os.walk(image_folder):\n",
    "    for file in files:\n",
    "        if (\"hurricane-matthew\" in file) and (\"pre\" in file):\n",
    "            pre_image_files.append(imread(os.path.join(root, file)))\n",
    "        elif (\"hurricane-matthew\" in file) and (\"post\" in file):\n",
    "            post_image_files.append(imread(os.path.join(root, file)))\n",
    "\n",
    "for root, dirs, files in os.walk(image_folder):\n",
    "    for file in files:\n",
    "        if (\"hurricane-matthew\" in file) and (\"pre\" in file):\n",
    "            pre_building_files.append(imread(os.path.join(root, file)))\n",
    "        elif (\"hurricane-matthew\" in file) and (\"post\" in file):\n",
    "            post_building_files.append(imread(os.path.join(root, file)))"
   ]
  },
  {
   "cell_type": "code",
   "execution_count": 13,
   "metadata": {},
   "outputs": [
    {
     "name": "stdout",
     "output_type": "stream",
     "text": [
      "238\n",
      "238\n"
     ]
    }
   ],
   "source": [
    "print(len(pre_image_files))\n",
    "print(len(post_image_files))"
   ]
  },
  {
   "cell_type": "markdown",
   "metadata": {},
   "source": [
    "## Read polygon"
   ]
  },
  {
   "cell_type": "code",
   "execution_count": 78,
   "metadata": {},
   "outputs": [
    {
     "name": "stdout",
     "output_type": "stream",
     "text": [
      "train/labels\n"
     ]
    }
   ],
   "source": [
    "import pandas as pd\n",
    "import json\n",
    "\n",
    "labels_folder = 'train/labels'\n",
    "count = 0\n",
    "for root, dirs, files in os.walk(labels_folder):\n",
    "    for file in files:\n",
    "        if (\"hurricane-matthew\" in file) and (\"post\" in file) and (count==0):\n",
    "            test = json.load(open(os.path.join(root, file)))\n",
    "            main_df = pd.json_normalize(test, record_path=['features', 'lng_lat'])\n",
    "            main_df['image'] = file.split('.')[0]\n",
    "            count += 1\n",
    "        elif (\"hurricane-matthew\" in file) and (\"post\" in file):\n",
    "            test = json.load(open(os.path.join(root, file)))\n",
    "            df = pd.json_normalize(test, record_path=['features', 'lng_lat'])\n",
    "            df['image'] = file.split('.')[0]\n",
    "            main_df = pd.concat([main_df, df], ignore_index=True)"
   ]
  },
  {
   "cell_type": "code",
   "execution_count": 77,
   "metadata": {},
   "outputs": [
    {
     "data": {
      "text/html": [
       "<div>\n",
       "<style scoped>\n",
       "    .dataframe tbody tr th:only-of-type {\n",
       "        vertical-align: middle;\n",
       "    }\n",
       "\n",
       "    .dataframe tbody tr th {\n",
       "        vertical-align: top;\n",
       "    }\n",
       "\n",
       "    .dataframe thead th {\n",
       "        text-align: right;\n",
       "    }\n",
       "</style>\n",
       "<table border=\"1\" class=\"dataframe\">\n",
       "  <thead>\n",
       "    <tr style=\"text-align: right;\">\n",
       "      <th></th>\n",
       "      <th>wkt</th>\n",
       "      <th>properties.feature_type</th>\n",
       "      <th>properties.subtype</th>\n",
       "      <th>properties.uid</th>\n",
       "      <th>image</th>\n",
       "    </tr>\n",
       "  </thead>\n",
       "  <tbody>\n",
       "    <tr>\n",
       "      <th>0</th>\n",
       "      <td>POLYGON ((-73.73999821958201 18.19645168390706...</td>\n",
       "      <td>building</td>\n",
       "      <td>minor-damage</td>\n",
       "      <td>6dd06e25-353d-4ca2-8a93-bbdd44b10435</td>\n",
       "      <td>hurricane-matthew_00000000_post_disaster</td>\n",
       "    </tr>\n",
       "    <tr>\n",
       "      <th>1</th>\n",
       "      <td>POLYGON ((-73.74012695415038 18.19649906723468...</td>\n",
       "      <td>building</td>\n",
       "      <td>minor-damage</td>\n",
       "      <td>29ea07d6-33b5-4c85-9a80-20eea786ab2f</td>\n",
       "      <td>hurricane-matthew_00000000_post_disaster</td>\n",
       "    </tr>\n",
       "    <tr>\n",
       "      <th>2</th>\n",
       "      <td>POLYGON ((-73.74014403688365 18.1965502302046,...</td>\n",
       "      <td>building</td>\n",
       "      <td>minor-damage</td>\n",
       "      <td>25e32d78-3761-443d-8afb-e4b1d575ad30</td>\n",
       "      <td>hurricane-matthew_00000000_post_disaster</td>\n",
       "    </tr>\n",
       "    <tr>\n",
       "      <th>3</th>\n",
       "      <td>POLYGON ((-73.74006042030388 18.19652266297088...</td>\n",
       "      <td>building</td>\n",
       "      <td>minor-damage</td>\n",
       "      <td>63591a27-a002-4c86-a02c-e5c4282339cc</td>\n",
       "      <td>hurricane-matthew_00000000_post_disaster</td>\n",
       "    </tr>\n",
       "    <tr>\n",
       "      <th>4</th>\n",
       "      <td>POLYGON ((-73.74005471031927 18.19658868660606...</td>\n",
       "      <td>building</td>\n",
       "      <td>minor-damage</td>\n",
       "      <td>5416393e-158e-4bee-9f93-b70df29eab02</td>\n",
       "      <td>hurricane-matthew_00000000_post_disaster</td>\n",
       "    </tr>\n",
       "    <tr>\n",
       "      <th>...</th>\n",
       "      <td>...</td>\n",
       "      <td>...</td>\n",
       "      <td>...</td>\n",
       "      <td>...</td>\n",
       "      <td>...</td>\n",
       "    </tr>\n",
       "    <tr>\n",
       "      <th>13934</th>\n",
       "      <td>POLYGON ((-74.09714968659425 18.27231201919512...</td>\n",
       "      <td>building</td>\n",
       "      <td>destroyed</td>\n",
       "      <td>ceb3124e-0183-42e8-a26b-38c7844184cf</td>\n",
       "      <td>hurricane-matthew_00000401_post_disaster</td>\n",
       "    </tr>\n",
       "    <tr>\n",
       "      <th>13935</th>\n",
       "      <td>POLYGON ((-74.09774801834411 18.27229347634119...</td>\n",
       "      <td>building</td>\n",
       "      <td>destroyed</td>\n",
       "      <td>e748416c-b2f2-4aaf-aefa-89c5ff6468bd</td>\n",
       "      <td>hurricane-matthew_00000401_post_disaster</td>\n",
       "    </tr>\n",
       "    <tr>\n",
       "      <th>13936</th>\n",
       "      <td>POLYGON ((-74.09658657078509 18.27343661200825...</td>\n",
       "      <td>building</td>\n",
       "      <td>destroyed</td>\n",
       "      <td>060bbf4b-6dc6-42e1-b325-e75f819ab1f0</td>\n",
       "      <td>hurricane-matthew_00000401_post_disaster</td>\n",
       "    </tr>\n",
       "    <tr>\n",
       "      <th>13937</th>\n",
       "      <td>POLYGON ((-74.09638183743883 18.273897772937, ...</td>\n",
       "      <td>building</td>\n",
       "      <td>destroyed</td>\n",
       "      <td>3627d4d1-2bb5-4406-aec0-00f8a88c87c7</td>\n",
       "      <td>hurricane-matthew_00000401_post_disaster</td>\n",
       "    </tr>\n",
       "    <tr>\n",
       "      <th>13938</th>\n",
       "      <td>POLYGON ((-74.09697686066434 18.2753502649432,...</td>\n",
       "      <td>building</td>\n",
       "      <td>destroyed</td>\n",
       "      <td>c0a0eb40-f0cf-47f5-a573-fe21a724fda0</td>\n",
       "      <td>hurricane-matthew_00000401_post_disaster</td>\n",
       "    </tr>\n",
       "  </tbody>\n",
       "</table>\n",
       "<p>13939 rows × 5 columns</p>\n",
       "</div>"
      ],
      "text/plain": [
       "                                                     wkt  \\\n",
       "0      POLYGON ((-73.73999821958201 18.19645168390706...   \n",
       "1      POLYGON ((-73.74012695415038 18.19649906723468...   \n",
       "2      POLYGON ((-73.74014403688365 18.1965502302046,...   \n",
       "3      POLYGON ((-73.74006042030388 18.19652266297088...   \n",
       "4      POLYGON ((-73.74005471031927 18.19658868660606...   \n",
       "...                                                  ...   \n",
       "13934  POLYGON ((-74.09714968659425 18.27231201919512...   \n",
       "13935  POLYGON ((-74.09774801834411 18.27229347634119...   \n",
       "13936  POLYGON ((-74.09658657078509 18.27343661200825...   \n",
       "13937  POLYGON ((-74.09638183743883 18.273897772937, ...   \n",
       "13938  POLYGON ((-74.09697686066434 18.2753502649432,...   \n",
       "\n",
       "      properties.feature_type properties.subtype  \\\n",
       "0                    building       minor-damage   \n",
       "1                    building       minor-damage   \n",
       "2                    building       minor-damage   \n",
       "3                    building       minor-damage   \n",
       "4                    building       minor-damage   \n",
       "...                       ...                ...   \n",
       "13934                building          destroyed   \n",
       "13935                building          destroyed   \n",
       "13936                building          destroyed   \n",
       "13937                building          destroyed   \n",
       "13938                building          destroyed   \n",
       "\n",
       "                             properties.uid  \\\n",
       "0      6dd06e25-353d-4ca2-8a93-bbdd44b10435   \n",
       "1      29ea07d6-33b5-4c85-9a80-20eea786ab2f   \n",
       "2      25e32d78-3761-443d-8afb-e4b1d575ad30   \n",
       "3      63591a27-a002-4c86-a02c-e5c4282339cc   \n",
       "4      5416393e-158e-4bee-9f93-b70df29eab02   \n",
       "...                                     ...   \n",
       "13934  ceb3124e-0183-42e8-a26b-38c7844184cf   \n",
       "13935  e748416c-b2f2-4aaf-aefa-89c5ff6468bd   \n",
       "13936  060bbf4b-6dc6-42e1-b325-e75f819ab1f0   \n",
       "13937  3627d4d1-2bb5-4406-aec0-00f8a88c87c7   \n",
       "13938  c0a0eb40-f0cf-47f5-a573-fe21a724fda0   \n",
       "\n",
       "                                          image  \n",
       "0      hurricane-matthew_00000000_post_disaster  \n",
       "1      hurricane-matthew_00000000_post_disaster  \n",
       "2      hurricane-matthew_00000000_post_disaster  \n",
       "3      hurricane-matthew_00000000_post_disaster  \n",
       "4      hurricane-matthew_00000000_post_disaster  \n",
       "...                                         ...  \n",
       "13934  hurricane-matthew_00000401_post_disaster  \n",
       "13935  hurricane-matthew_00000401_post_disaster  \n",
       "13936  hurricane-matthew_00000401_post_disaster  \n",
       "13937  hurricane-matthew_00000401_post_disaster  \n",
       "13938  hurricane-matthew_00000401_post_disaster  \n",
       "\n",
       "[13939 rows x 5 columns]"
      ]
     },
     "execution_count": 77,
     "metadata": {},
     "output_type": "execute_result"
    }
   ],
   "source": [
    "main_df"
   ]
  },
  {
   "cell_type": "code",
   "execution_count": 85,
   "metadata": {},
   "outputs": [],
   "source": [
    "output_path = 'train/mask_polygon'\n",
    "\n",
    "damage_dict = {\n",
    "    \"no-damage\": 1,\n",
    "    \"minor-damage\": 2,\n",
    "    \"major-damage\": 3,\n",
    "    \"destroyed\": 4,\n",
    "    \"un-classified\": 255\n",
    "}\n",
    "\n",
    "for root, dirs, files in os.walk(labels_folder):\n",
    "    for file in files:\n",
    "        if (\"hurricane-matthew\" in file) and (\"post\" in file):\n",
    "            polygons = json.load(open(os.path.join(root, file)))\n",
    "            h = polygons[\"metadata\"][\"height\"]\n",
    "            w = polygons[\"metadata\"][\"width\"]\n",
    "            mask_img = np.zeros((h, w), np.uint8)\n",
    "            for feature in polygons['features']['xy']:\n",
    "                feature_poly = wkt.loads(feature['wkt'])\n",
    "                coords = list(mapping(feature_poly)['coordinates'][0])\n",
    "                fillPoly(mask_img, [np.array(coords, np.int32)], damage_dict[feature['properties']['subtype']])\n",
    "            output_name = file.split('.')[0] + \".png\"\n",
    "            isExist = os.path.exists(output_path)\n",
    "            if not isExist:\n",
    "                os.makedirs(output_path)\n",
    "            cv2.imwrite(os.path.join('train/mask_polygon', output_name), mask_img)"
   ]
  },
  {
   "cell_type": "code",
   "execution_count": 93,
   "metadata": {},
   "outputs": [
    {
     "data": {
      "image/png": "[encoded data removed]",
      "text/plain": [
       "<Figure size 640x480 with 1 Axes>"
      ]
     },
     "metadata": {},
     "output_type": "display_data"
    }
   ],
   "source": [
    "img = mpimg.imread('train/mask_polygon/hurricane-matthew_00000211_post_disaster.png')\n",
    "imgplot = plt.imshow(img)\n",
    "plt.show()"
   ]
  },
  {
   "cell_type": "code",
   "execution_count": null,
   "metadata": {},
   "outputs": [],
   "source": []
  }
 ],
 "metadata": {
  "kernelspec": {
   "display_name": "aia",
   "language": "python",
   "name": "python3"
  },
  "language_info": {
   "codemirror_mode": {
    "name": "ipython",
    "version": 3
   },
   "file_extension": ".py",
   "mimetype": "text/x-python",
   "name": "python",
   "nbconvert_exporter": "python",
   "pygments_lexer": "ipython3",
   "version": "3.7.16"
  }
 },
 "nbformat": 4,
 "nbformat_minor": 2
}
